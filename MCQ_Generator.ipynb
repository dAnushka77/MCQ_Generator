{
  "nbformat": 4,
  "nbformat_minor": 0,
  "metadata": {
    "colab": {
      "provenance": []
    },
    "kernelspec": {
      "name": "python3",
      "display_name": "Python 3"
    },
    "language_info": {
      "name": "python"
    }
  },
  "cells": [
    {
      "cell_type": "code",
      "execution_count": 1,
      "metadata": {
        "colab": {
          "base_uri": "https://localhost:8080/"
        },
        "id": "xTttPX-Y8AwW",
        "outputId": "fdec9dee-1d16-4ffb-9d8f-0315ae49c69c"
      },
      "outputs": [
        {
          "output_type": "stream",
          "name": "stdout",
          "text": [
            "Requirement already satisfied: spacy in /usr/local/lib/python3.10/dist-packages (3.7.5)\n",
            "Requirement already satisfied: spacy-legacy<3.1.0,>=3.0.11 in /usr/local/lib/python3.10/dist-packages (from spacy) (3.0.12)\n",
            "Requirement already satisfied: spacy-loggers<2.0.0,>=1.0.0 in /usr/local/lib/python3.10/dist-packages (from spacy) (1.0.5)\n",
            "Requirement already satisfied: murmurhash<1.1.0,>=0.28.0 in /usr/local/lib/python3.10/dist-packages (from spacy) (1.0.10)\n",
            "Requirement already satisfied: cymem<2.1.0,>=2.0.2 in /usr/local/lib/python3.10/dist-packages (from spacy) (2.0.8)\n",
            "Requirement already satisfied: preshed<3.1.0,>=3.0.2 in /usr/local/lib/python3.10/dist-packages (from spacy) (3.0.9)\n",
            "Requirement already satisfied: thinc<8.3.0,>=8.2.2 in /usr/local/lib/python3.10/dist-packages (from spacy) (8.2.5)\n",
            "Requirement already satisfied: wasabi<1.2.0,>=0.9.1 in /usr/local/lib/python3.10/dist-packages (from spacy) (1.1.3)\n",
            "Requirement already satisfied: srsly<3.0.0,>=2.4.3 in /usr/local/lib/python3.10/dist-packages (from spacy) (2.4.8)\n",
            "Requirement already satisfied: catalogue<2.1.0,>=2.0.6 in /usr/local/lib/python3.10/dist-packages (from spacy) (2.0.10)\n",
            "Requirement already satisfied: weasel<0.5.0,>=0.1.0 in /usr/local/lib/python3.10/dist-packages (from spacy) (0.4.1)\n",
            "Requirement already satisfied: typer<1.0.0,>=0.3.0 in /usr/local/lib/python3.10/dist-packages (from spacy) (0.12.3)\n",
            "Requirement already satisfied: tqdm<5.0.0,>=4.38.0 in /usr/local/lib/python3.10/dist-packages (from spacy) (4.66.4)\n",
            "Requirement already satisfied: requests<3.0.0,>=2.13.0 in /usr/local/lib/python3.10/dist-packages (from spacy) (2.31.0)\n",
            "Requirement already satisfied: pydantic!=1.8,!=1.8.1,<3.0.0,>=1.7.4 in /usr/local/lib/python3.10/dist-packages (from spacy) (2.8.2)\n",
            "Requirement already satisfied: jinja2 in /usr/local/lib/python3.10/dist-packages (from spacy) (3.1.4)\n",
            "Requirement already satisfied: setuptools in /usr/local/lib/python3.10/dist-packages (from spacy) (71.0.4)\n",
            "Requirement already satisfied: packaging>=20.0 in /usr/local/lib/python3.10/dist-packages (from spacy) (24.1)\n",
            "Requirement already satisfied: langcodes<4.0.0,>=3.2.0 in /usr/local/lib/python3.10/dist-packages (from spacy) (3.4.0)\n",
            "Requirement already satisfied: numpy>=1.19.0 in /usr/local/lib/python3.10/dist-packages (from spacy) (1.25.2)\n",
            "Requirement already satisfied: language-data>=1.2 in /usr/local/lib/python3.10/dist-packages (from langcodes<4.0.0,>=3.2.0->spacy) (1.2.0)\n",
            "Requirement already satisfied: annotated-types>=0.4.0 in /usr/local/lib/python3.10/dist-packages (from pydantic!=1.8,!=1.8.1,<3.0.0,>=1.7.4->spacy) (0.7.0)\n",
            "Requirement already satisfied: pydantic-core==2.20.1 in /usr/local/lib/python3.10/dist-packages (from pydantic!=1.8,!=1.8.1,<3.0.0,>=1.7.4->spacy) (2.20.1)\n",
            "Requirement already satisfied: typing-extensions>=4.6.1 in /usr/local/lib/python3.10/dist-packages (from pydantic!=1.8,!=1.8.1,<3.0.0,>=1.7.4->spacy) (4.12.2)\n",
            "Requirement already satisfied: charset-normalizer<4,>=2 in /usr/local/lib/python3.10/dist-packages (from requests<3.0.0,>=2.13.0->spacy) (3.3.2)\n",
            "Requirement already satisfied: idna<4,>=2.5 in /usr/local/lib/python3.10/dist-packages (from requests<3.0.0,>=2.13.0->spacy) (3.7)\n",
            "Requirement already satisfied: urllib3<3,>=1.21.1 in /usr/local/lib/python3.10/dist-packages (from requests<3.0.0,>=2.13.0->spacy) (2.0.7)\n",
            "Requirement already satisfied: certifi>=2017.4.17 in /usr/local/lib/python3.10/dist-packages (from requests<3.0.0,>=2.13.0->spacy) (2024.7.4)\n",
            "Requirement already satisfied: blis<0.8.0,>=0.7.8 in /usr/local/lib/python3.10/dist-packages (from thinc<8.3.0,>=8.2.2->spacy) (0.7.11)\n",
            "Requirement already satisfied: confection<1.0.0,>=0.0.1 in /usr/local/lib/python3.10/dist-packages (from thinc<8.3.0,>=8.2.2->spacy) (0.1.5)\n",
            "Requirement already satisfied: click>=8.0.0 in /usr/local/lib/python3.10/dist-packages (from typer<1.0.0,>=0.3.0->spacy) (8.1.7)\n",
            "Requirement already satisfied: shellingham>=1.3.0 in /usr/local/lib/python3.10/dist-packages (from typer<1.0.0,>=0.3.0->spacy) (1.5.4)\n",
            "Requirement already satisfied: rich>=10.11.0 in /usr/local/lib/python3.10/dist-packages (from typer<1.0.0,>=0.3.0->spacy) (13.7.1)\n",
            "Requirement already satisfied: cloudpathlib<1.0.0,>=0.7.0 in /usr/local/lib/python3.10/dist-packages (from weasel<0.5.0,>=0.1.0->spacy) (0.18.1)\n",
            "Requirement already satisfied: smart-open<8.0.0,>=5.2.1 in /usr/local/lib/python3.10/dist-packages (from weasel<0.5.0,>=0.1.0->spacy) (7.0.4)\n",
            "Requirement already satisfied: MarkupSafe>=2.0 in /usr/local/lib/python3.10/dist-packages (from jinja2->spacy) (2.1.5)\n",
            "Requirement already satisfied: marisa-trie>=0.7.7 in /usr/local/lib/python3.10/dist-packages (from language-data>=1.2->langcodes<4.0.0,>=3.2.0->spacy) (1.2.0)\n",
            "Requirement already satisfied: markdown-it-py>=2.2.0 in /usr/local/lib/python3.10/dist-packages (from rich>=10.11.0->typer<1.0.0,>=0.3.0->spacy) (3.0.0)\n",
            "Requirement already satisfied: pygments<3.0.0,>=2.13.0 in /usr/local/lib/python3.10/dist-packages (from rich>=10.11.0->typer<1.0.0,>=0.3.0->spacy) (2.16.1)\n",
            "Requirement already satisfied: wrapt in /usr/local/lib/python3.10/dist-packages (from smart-open<8.0.0,>=5.2.1->weasel<0.5.0,>=0.1.0->spacy) (1.14.1)\n",
            "Requirement already satisfied: mdurl~=0.1 in /usr/local/lib/python3.10/dist-packages (from markdown-it-py>=2.2.0->rich>=10.11.0->typer<1.0.0,>=0.3.0->spacy) (0.1.2)\n"
          ]
        }
      ],
      "source": [
        "!pip install spacy"
      ]
    },
    {
      "cell_type": "code",
      "source": [
        "import random\n",
        "import spacy\n",
        "from collections import Counter"
      ],
      "metadata": {
        "id": "rnTQ8eTZ8LGr"
      },
      "execution_count": 36,
      "outputs": []
    },
    {
      "cell_type": "code",
      "source": [
        "# Load English tokenizer, tagger, parser, NER and vectors\n",
        "nlp = spacy.load('en_core_web_sm')"
      ],
      "metadata": {
        "id": "YN2DXJq38P4v"
      },
      "execution_count": 37,
      "outputs": []
    },
    {
      "cell_type": "code",
      "source": [
        "def generate_mcqs(text, num_of_questions=5):\n",
        "\n",
        "  if text is None:\n",
        "    return []\n",
        "\n",
        "  # Process the text with spacy\n",
        "  doc = nlp(text)\n",
        "\n",
        "  # Extract sentences from the text\n",
        "  sentences = ([sent.text for sent in doc.sents])\n",
        "\n",
        "  # Extract sentences from the text\n",
        "  selected_sentences = random.sample(sentences, (min(num_of_questions, len(sentences))))\n",
        "\n",
        "  # Initialize list to store generated MCQs\n",
        "  mcqs = []\n",
        "\n",
        "  # Generate MCQs for each selected sentence\n",
        "  for sentence in selected_sentences:\n",
        "    #sentence = sentence.lower()\n",
        "    # Processthe sentence with spacy\n",
        "    sent_doc = nlp(sentence)\n",
        "\n",
        "    #Extracting entities (nouns) from sentenc\n",
        "    nouns = [token.text for token in sent_doc if token.pos_ == \"NOUN\"]\n",
        "\n",
        "    # Ensure there are enough nouns to generate MCQs\n",
        "    if len(nouns) < 2:\n",
        "      continue\n",
        "\n",
        "    # Count the occurrence of each noun\n",
        "    noun_counts = Counter(nouns)\n",
        "\n",
        "    # Select the most common noun as the subject of teh question\n",
        "    if noun_counts:\n",
        "      subject = noun_counts.most_common(1)[0][0]\n",
        "\n",
        "      # Generate the answer choices\n",
        "      answer_choices = [subject]\n",
        "\n",
        "      # Generate the question stem\n",
        "      question_stem = sentence.replace(subject,\"________\")\n",
        "\n",
        "      # Add some random words from the text as distractors\n",
        "      distractors = list(set(nouns) - {subject})\n",
        "\n",
        "      # Ensure that there are atleast 3 distractors\n",
        "      while len(distractors) < 3:\n",
        "        distractors.append(\"[Distractor]\")\n",
        "\n",
        "      random.shuffle(distractors)\n",
        "      for dist in distractors[:3]:\n",
        "        answer_choices.append(dist)\n",
        "\n",
        "      # Shuffle the answer choices\n",
        "      random.shuffle(answer_choices)\n",
        "\n",
        "      # Converting correct answer key to A/B/C/D code\n",
        "      correct_answer = chr(64 + answer_choices.index(subject) + 1)\n",
        "\n",
        "      # Append the generated MCQs to the list\n",
        "      mcqs.append((question_stem, answer_choices, correct_answer))\n",
        "\n",
        "  return mcqs"
      ],
      "metadata": {
        "id": "OuHm6z7J8g-i"
      },
      "execution_count": 60,
      "outputs": []
    },
    {
      "cell_type": "code",
      "source": [
        "# Test the function with the provided text\n",
        "\n",
        "text = \"\"\"\n",
        "In recent years, the field of artificial intelligence (AI) has seen significant advancements, particularly in machine learning and deep learning techniques. One of the most transformative aspects of AI is its ability to analyze and learn from large datasets, allowing it to make predictions and decisions with increasing accuracy. For example, in healthcare, AI algorithms are being used to predict patient outcomes, diagnose diseases from medical images, and personalize treatment plans based on individual patient data. Similarly, in finance, AI-driven systems are employed to detect fraudulent transactions, optimize investment strategies, and provide personalized financial advice. The rise of natural language processing (NLP) has also enabled AI to understand and generate human language, leading to the development of sophisticated virtual assistants and chatbots that can engage in meaningful conversations with users. However, these advancements are not without challenges. Concerns about data privacy, algorithmic bias, and the ethical implications of AI decision-making have prompted calls for greater transparency and regulation in the development and deployment of AI technologies. Additionally, the increasing automation of jobs due to AI has raised concerns about the future of employment, as machines take on roles traditionally performed by humans. As AI continues to evolve, it will be crucial for policymakers, technologists, and society as a whole to navigate these challenges and ensure that the benefits of AI are shared equitably across all sectors.\n",
        "\"\"\"\n",
        "\n",
        "results = generate_mcqs(text, num_of_questions=5)\n",
        "\n",
        "for i, mcq in enumerate(results,start=1):\n",
        "  question_stem, answer_choices, correct_answer = mcq\n",
        "\n",
        "  print(f\"Q{i}: {question_stem}\")\n",
        "  for j, choice in enumerate(answer_choices,start=1):\n",
        "    print(f\"{chr(64+j)}: {choice}\")\n",
        "  print(f\"Correct Answer: {correct_answer}\")\n",
        "  print('\\n')"
      ],
      "metadata": {
        "colab": {
          "base_uri": "https://localhost:8080/"
        },
        "id": "0JMMGkjQIFQm",
        "outputId": "9af91005-f49b-4685-fe7a-a63c96e7d557"
      },
      "execution_count": 61,
      "outputs": [
        {
          "output_type": "stream",
          "name": "stdout",
          "text": [
            "Q1: For ________, in healthcare, AI algorithms are being used to predict patient outcomes, diagnose diseases from medical images, and personalize treatment plans based on individual patient data.\n",
            "A: data\n",
            "B: example\n",
            "C: plans\n",
            "D: diseases\n",
            "Correct Answer: B\n",
            "\n",
            "\n",
            "Q2: However, these ________ are not without challenges.\n",
            "A: [Distractor]\n",
            "B: advancements\n",
            "C: challenges\n",
            "D: [Distractor]\n",
            "Correct Answer: B\n",
            "\n",
            "\n",
            "Q3: \n",
            "In recent ________, the field of artificial intelligence (AI) has seen significant advancements, particularly in machine learning and deep learning techniques.\n",
            "A: advancements\n",
            "B: techniques\n",
            "C: years\n",
            "D: intelligence\n",
            "Correct Answer: C\n",
            "\n",
            "\n",
            "Q4: One of the most transformative ________ of AI is its ability to analyze and learn from large datasets, allowing it to make predictions and decisions with increasing accuracy.\n",
            "A: accuracy\n",
            "B: aspects\n",
            "C: predictions\n",
            "D: ability\n",
            "Correct Answer: B\n",
            "\n",
            "\n",
            "Q5: Additionally, the increasing ________ of jobs due to AI has raised concerns about the future of employment, as machines take on roles traditionally performed by humans.\n",
            "A: roles\n",
            "B: concerns\n",
            "C: future\n",
            "D: automation\n",
            "Correct Answer: D\n",
            "\n",
            "\n"
          ]
        }
      ]
    },
    {
      "cell_type": "code",
      "source": [],
      "metadata": {
        "id": "7r2bF0NrIZ0V"
      },
      "execution_count": null,
      "outputs": []
    }
  ]
}